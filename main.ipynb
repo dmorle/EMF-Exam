{
 "cells": [
  {
   "cell_type": "markdown",
   "metadata": {
    "collapsed": true,
    "pycharm": {
     "name": "#%% md\n"
    }
   },
   "source": [
    "Importing the needed packages\n"
   ]
  },
  {
   "cell_type": "code",
   "execution_count": 1,
   "metadata": {
    "pycharm": {
     "is_executing": true,
     "name": "#%%\n"
    }
   },
   "outputs": [],
   "source": [
    "import matplotlib.pyplot as plt\n",
    "import numpy as np\n",
    "import ipywidgets as widgets\n",
    "from IPython.display import display\n",
    "import pyvista as pv\n",
    "import scipy.constants as consts"
   ]
  },
  {
   "cell_type": "markdown",
   "metadata": {
    "pycharm": {
     "name": "#%% md\n"
    }
   },
   "source": [
    "Getting the coax cable parameters from the user\n",
    "Plotting the coax cable using PyVista to give the user an intuition for the system"
   ]
  },
  {
   "cell_type": "code",
   "execution_count": 7,
   "metadata": {
    "pycharm": {
     "is_executing": true,
     "name": "#%%\n"
    },
    "scrolled": true
   },
   "outputs": [
    {
     "data": {
      "application/vnd.jupyter.widget-view+json": {
       "model_id": "e6a199a829f34f75b117485f1f5e90af",
       "version_major": 2,
       "version_minor": 0
      },
      "text/plain": [
       "FloatSlider(value=0.1, description=\"Inner radius 'a'\", max=10.0, min=0.01, step=0.01)"
      ]
     },
     "metadata": {},
     "output_type": "display_data"
    },
    {
     "data": {
      "application/vnd.jupyter.widget-view+json": {
       "model_id": "1af5bc6723784892a86e183dc97ecf30",
       "version_major": 2,
       "version_minor": 0
      },
      "text/plain": [
       "FloatSlider(value=1.0, description=\"Outer radius 'b'\", max=10.0, min=0.01, step=0.01)"
      ]
     },
     "metadata": {},
     "output_type": "display_data"
    },
    {
     "data": {
      "application/vnd.jupyter.widget-view+json": {
       "model_id": "73cda2ea76c24956a943ead17b3413b3",
       "version_major": 2,
       "version_minor": 0
      },
      "text/plain": [
       "FloatSlider(value=5.0, description=\"Cable length 'h'\", max=10.0, step=0.01)"
      ]
     },
     "metadata": {},
     "output_type": "display_data"
    }
   ],
   "source": [
    "params = [0.1, 1.0, 5.0] # inner radius a, outer radius b, cable length h\n",
    "N = 100                  # number of faces to display on the cable render\n",
    "surf = None              # pyvista mesh\n",
    "\n",
    "\n",
    "coax_widgets = (\n",
    "    widgets.FloatSlider(min=0.01, max=10.0, step=0.01, value=params[0],\n",
    "                        description=\"Inner radius 'a'\"),\n",
    "    widgets.FloatSlider(min=0.01, max=10.0, step=0.01, value=params[1],\n",
    "                        description=\"Outer radius 'b'\"),\n",
    "    widgets.FloatSlider(min=0,    max=10.0, step=0.01, value=params[2],\n",
    "                        description=\"Cable length 'h'\")\n",
    ")\n",
    "\n",
    "\n",
    "def create_surf():\n",
    "    \"\"\"\n",
    "    Initializes the global surf with a mesh that describes the coax cable\n",
    "    \"\"\"\n",
    "    global surf\n",
    "    theta_values = np.linspace(0, 2 * np.pi, N+1)[:-1]\n",
    "    x = np.cos(theta_values).reshape(1, -1)\n",
    "    y = np.sin(theta_values).reshape(1, -1)\n",
    "    x_arr, y_arr = [], []\n",
    "    for i in [0, 1]:\n",
    "        x_arr.append(x.copy() * params[i])\n",
    "        y_arr.append(y.copy() * params[i])\n",
    "    pts = np.concatenate(\n",
    "        (\n",
    "            np.concatenate((x_arr[0], y_arr[0], np.zeros((1, N)))),\n",
    "            np.concatenate((x_arr[0], y_arr[0], np.full((1, N), params[2]))),\n",
    "            np.concatenate((x_arr[1], y_arr[1], np.zeros((1, N)))),\n",
    "            np.concatenate((x_arr[1], y_arr[1], np.full((1, N), params[2])))\n",
    "        ), 1\n",
    "    )\n",
    "\n",
    "    # building the edges of the cylinders\n",
    "    faces = []\n",
    "    for i in range(N):\n",
    "        j = (i+1) % N\n",
    "        faces.append(np.array([4, i        , j        , j + N    , i + N    ]))\n",
    "        faces.append(np.array([4, i + 2 * N, j + 2 * N, j + 3 * N, i + 3 * N]))\n",
    "\n",
    "    # front and back faces of the inner conductor\n",
    "    faces.append([100] + [i for i in range(0  , 100)])\n",
    "    faces.append([100] + [i for i in range(100, 200)])\n",
    "    faces = np.hstack(faces)\n",
    "    surf = pv.PolyData(pts.transpose(), faces)\n",
    "\n",
    "\n",
    "def update_display(change):\n",
    "    global plotter\n",
    "    if change.name == \"value\":\n",
    "        params[change.owner.local_id] = change.new\n",
    "        create_surf()\n",
    "\n",
    "for i, e in enumerate(coax_widgets):\n",
    "    e.local_id = i\n",
    "    e.observe(update_display)\n",
    "    display(e)"
   ]
  },
  {
   "cell_type": "markdown",
   "metadata": {
    "pycharm": {
     "name": "#%% md\n"
    }
   },
   "source": [
    "Create/Update the viewport with the newly selected values\n",
    "\n",
    "Re-run this cell to update the cable render with the newly selected parameters"
   ]
  },
  {
   "cell_type": "code",
   "execution_count": 11,
   "metadata": {
    "pycharm": {
     "is_executing": true,
     "name": "#%%\n"
    },
    "scrolled": false
   },
   "outputs": [
    {
     "ename": "ValueError",
     "evalue": "Invalid parameter selection:\n\tThe inner radius must be strictly less than the outer",
     "output_type": "error",
     "traceback": [
      "\u001B[0;31m---------------------------------------------------------------------------\u001B[0m",
      "\u001B[0;31mValueError\u001B[0m                                Traceback (most recent call last)",
      "\u001B[0;32m<ipython-input-11-c6cde40c7ff6>\u001B[0m in \u001B[0;36m<module>\u001B[0;34m\u001B[0m\n\u001B[1;32m      1\u001B[0m \u001B[0;32mif\u001B[0m \u001B[0mparams\u001B[0m\u001B[0;34m[\u001B[0m\u001B[0;36m1\u001B[0m\u001B[0;34m]\u001B[0m \u001B[0;34m<=\u001B[0m \u001B[0mparams\u001B[0m\u001B[0;34m[\u001B[0m\u001B[0;36m0\u001B[0m\u001B[0;34m]\u001B[0m\u001B[0;34m:\u001B[0m  \u001B[0;31m# this line is equivalent to - if b <= a\u001B[0m\u001B[0;34m\u001B[0m\u001B[0;34m\u001B[0m\u001B[0m\n\u001B[0;32m----> 2\u001B[0;31m     \u001B[0;32mraise\u001B[0m \u001B[0mValueError\u001B[0m\u001B[0;34m(\u001B[0m\u001B[0;34m\"Invalid parameter selection:\\n\\tThe inner radius must be strictly less than the outer\"\u001B[0m\u001B[0;34m)\u001B[0m\u001B[0;34m\u001B[0m\u001B[0;34m\u001B[0m\u001B[0m\n\u001B[0m\u001B[1;32m      3\u001B[0m \u001B[0;34m\u001B[0m\u001B[0m\n\u001B[1;32m      4\u001B[0m \u001B[0mplotter\u001B[0m \u001B[0;34m=\u001B[0m \u001B[0mpv\u001B[0m\u001B[0;34m.\u001B[0m\u001B[0mPlotterITK\u001B[0m\u001B[0;34m(\u001B[0m\u001B[0;34m)\u001B[0m\u001B[0;34m\u001B[0m\u001B[0;34m\u001B[0m\u001B[0m\n\u001B[1;32m      5\u001B[0m \u001B[0mcreate_surf\u001B[0m\u001B[0;34m(\u001B[0m\u001B[0;34m)\u001B[0m\u001B[0;34m\u001B[0m\u001B[0;34m\u001B[0m\u001B[0m\n",
      "\u001B[0;31mValueError\u001B[0m: Invalid parameter selection:\n\tThe inner radius must be strictly less than the outer"
     ]
    }
   ],
   "source": [
    "if params[1] <= params[0]:  # this line is equivalent to - if b <= a\n",
    "    raise ValueError(\"Invalid parameter selection:\\n\\tThe inner radius must be strictly less than the outer\")\n",
    "\n",
    "plotter = pv.PlotterITK()\n",
    "create_surf()\n",
    "plotter.add_mesh(surf)\n",
    "plotter.show()"
   ]
  },
  {
   "cell_type": "markdown",
   "metadata": {
    "pycharm": {
     "is_executing": true,
     "name": "#%% md\n"
    }
   },
   "source": [
    "Computing the capacitance and inductance of the coaxial cables using the equations derived in the report\n",
    "\n",
    "$L_{in} = \\frac{\\mu_0h}{8\\pi}$\n",
    "\n",
    "$L_{ext} = \\frac{\\mu_0h}{2\\pi}ln\\left(\\frac{b}{a}\\right)$\n",
    "\n",
    "$L = L_{in} + L_{ext} = \\frac{h}{2\\pi}\\left(\\frac{\\mu}{4} + \\mu_0ln\\left(\\frac{b}{a}\\right)\\right)$\n",
    "\n",
    "$C=\\frac{2\\pi h\\varepsilon_0}{ln\\left(\\frac{b}{a}\\right)}$"
   ]
  },
  {
   "cell_type": "code",
   "execution_count": 4,
   "metadata": {
    "pycharm": {
     "name": "#%%\n"
    }
   },
   "outputs": [],
   "source": [
    "def internal_inductance(h):\n",
    "    return (consts.mu_0 * h) / (8 * np.pi)\n",
    "\n",
    "def external_inductance(a, b, h):\n",
    "    return (consts.mu_0 * h) / (2 * np.pi) * np.log(b / a)\n",
    "\n",
    "def total_inductance(a, b, h):\n",
    "    return internal_inductance(h) + external_inductance(a, b, h)\n",
    "\n",
    "def capacitance(a, b, h):\n",
    "    return (2 * np.pi * h * consts.epsilon_0) / np.log(b / a)\n",
    "\n",
    "# Each of the attributes of the cable can be computed using their respective equation:\n",
    "#     L_in = internal_inductance(params[2])\n",
    "#     L_ext = external_inductance(*params)\n",
    "#     L_tot = total_inductance(*params) # redundant function call, L_in + L_ext also works\n",
    "#     C = capacitance(*params)"
   ]
  },
  {
   "cell_type": "markdown",
   "source": [
    "Computing each of the cable attributes for a series of b/a values"
   ],
   "metadata": {
    "collapsed": false,
    "pycharm": {
     "name": "#%% md\n"
    }
   }
  },
  {
   "cell_type": "code",
   "execution_count": null,
   "outputs": [],
   "source": [
    "# todo: compute the data matrices"
   ],
   "metadata": {
    "collapsed": false,
    "pycharm": {
     "name": "#%%\n"
    }
   }
  }
 ],
 "metadata": {
  "kernelspec": {
   "display_name": "Python 3",
   "language": "python",
   "name": "python3"
  },
  "language_info": {
   "codemirror_mode": {
    "name": "ipython",
    "version": 3
   },
   "file_extension": ".py",
   "mimetype": "text/x-python",
   "name": "python",
   "nbconvert_exporter": "python",
   "pygments_lexer": "ipython3",
   "version": "3.7.7"
  }
 },
 "nbformat": 4,
 "nbformat_minor": 1
}