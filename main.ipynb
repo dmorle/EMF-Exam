{
 "cells": [
  {
   "cell_type": "markdown",
   "metadata": {
    "collapsed": true,
    "pycharm": {
     "name": "#%% md\n"
    }
   },
   "source": [
    "Importing the needed packages\n"
   ]
  },
  {
   "cell_type": "code",
   "execution_count": null,
   "metadata": {
    "pycharm": {
     "is_executing": true,
     "name": "#%%\n"
    }
   },
   "outputs": [],
   "source": [
    "import matplotlib.pyplot as plt\n",
    "import numpy as np\n",
    "import ipywidgets as widgets\n",
    "from IPython.display import display\n",
    "import pyvista as pv"
   ]
  },
  {
   "cell_type": "markdown",
   "metadata": {
    "pycharm": {
     "name": "#%% md\n"
    }
   },
   "source": [
    "Getting the coax cable parameters from the user\n",
    "Plotting the coax cable using PyVista to give the user an intuition for the system"
   ]
  },
  {
   "cell_type": "code",
   "execution_count": null,
   "metadata": {
    "pycharm": {
     "is_executing": true,
     "name": "#%%\n"
    },
    "scrolled": false
   },
   "outputs": [],
   "source": [
    "params = [0.1, 1.0, 5.0] # inner radius a, outer radius b, cable length h\n",
    "N = 100                  # number of faces to display on the cable render\n",
    "surf = None              # pyvista mesh\n",
    "\n",
    "\n",
    "coax_widgets = (\n",
    "    widgets.FloatSlider(min=0.01, max=10.0, step=0.01, value=params[0],\n",
    "                        description=\"Inner radius 'a'\"),\n",
    "    widgets.FloatSlider(min=0.01, max=10.0, step=0.01, value=params[1],\n",
    "                        description=\"Outer radius 'b'\"),\n",
    "    widgets.FloatSlider(min=0,    max=10.0, step=0.01, value=params[2],\n",
    "                        description=\"Cable length 'h'\")\n",
    ")\n",
    "\n",
    "\n",
    "def create_surf():\n",
    "    \"\"\"\n",
    "    Initializes the global surf with a mesh that describes the coax cable\n",
    "    \"\"\"\n",
    "    global surf\n",
    "    theta_values = np.linspace(0, 2 * np.pi, N+1)[:-1]\n",
    "    x = np.cos(theta_values).reshape(1, -1)\n",
    "    y = np.sin(theta_values).reshape(1, -1)\n",
    "    x_arr, y_arr = [], []\n",
    "    for i in [0, 1]:\n",
    "        x_arr.append(x.copy() * params[i])\n",
    "        y_arr.append(y.copy() * params[i])\n",
    "    pts = np.concatenate(\n",
    "        (\n",
    "            np.concatenate((x_arr[0], y_arr[0], np.zeros((1, N)))),\n",
    "            np.concatenate((x_arr[0], y_arr[0], np.full((1, N), params[2]))),\n",
    "            np.concatenate((x_arr[1], y_arr[1], np.zeros((1, N)))),\n",
    "            np.concatenate((x_arr[1], y_arr[1], np.full((1, N), params[2])))\n",
    "        ), 1\n",
    "    )\n",
    "\n",
    "    # building the edges of the cylinders\n",
    "    faces = []\n",
    "    for i in range(N):\n",
    "        j = (i+1) % N\n",
    "        faces.append(np.array([4, i        , j        , j + N    , i + N    ]))\n",
    "        faces.append(np.array([4, i + 2 * N, j + 2 * N, j + 3 * N, i + 3 * N]))\n",
    "\n",
    "    # front and back faces of the inner conductor\n",
    "    faces.append([100] + [i for i in range(0  , 100)])\n",
    "    faces.append([100] + [i for i in range(100, 200)])\n",
    "    faces = np.hstack(faces)\n",
    "    surf = pv.PolyData(pts.transpose(), faces)\n",
    "\n",
    "\n",
    "def update_display(change):\n",
    "    global plotter\n",
    "    if change.name == \"value\":\n",
    "        params[change.owner.local_id] = change.new\n",
    "        create_surf()\n",
    "\n",
    "for i, e in enumerate(coax_widgets):\n",
    "    e.local_id = i\n",
    "    e.observe(update_display)\n",
    "    display(e)"
   ]
  },
  {
   "cell_type": "markdown",
   "metadata": {
    "pycharm": {
     "name": "#%% md\n"
    }
   },
   "source": [
    "Create/Update the viewport with the newly selected values\n",
    "\n",
    "Re-run this cell to update the cable render with the newly selected parameters"
   ]
  },
  {
   "cell_type": "code",
   "execution_count": null,
   "metadata": {
    "pycharm": {
     "is_executing": true,
     "name": "#%%\n"
    }
   },
   "outputs": [],
   "source": [
    "if params[1] <= params[0]:  # this line is equivalent to - if b <= a\n",
    "    print(\"Invalid parameter selection:\\n\\tThe inner radius must be strictly less than the outer\")\n",
    "else:\n",
    "    plotter = pv.PlotterITK()\n",
    "    create_surf()\n",
    "    plotter.add_mesh(surf)\n",
    "    plotter.show()"
   ]
  },
  {
   "cell_type": "markdown",
   "metadata": {
    "pycharm": {
     "is_executing": true,
     "name": "#%% md\n"
    }
   },
   "source": [
    "Computing the capacitance and inductance of the coaxial cables using the equations derived in the report"
   ]
  },
  {
   "cell_type": "code",
   "execution_count": null,
   "outputs": [],
   "source": [
    "# todo: Apply the equations"
   ],
   "metadata": {
    "collapsed": false,
    "pycharm": {
     "name": "#%%\n"
    }
   }
  }
 ],
 "metadata": {
  "kernelspec": {
   "display_name": "Python 3",
   "language": "python",
   "name": "python3"
  },
  "language_info": {
   "codemirror_mode": {
    "name": "ipython",
    "version": 3
   },
   "file_extension": ".py",
   "mimetype": "text/x-python",
   "name": "python",
   "nbconvert_exporter": "python",
   "pygments_lexer": "ipython3",
   "version": "3.7.7"
  }
 },
 "nbformat": 4,
 "nbformat_minor": 1
}